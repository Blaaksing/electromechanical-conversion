{
  "cells": [
    {
      "cell_type": "markdown",
      "metadata": {
        "colab_type": "text",
        "id": "view-in-github"
      },
      "source": [
        "<a href=\"https://colab.research.google.com/github/PedrolyraC/electromechanical-conversion/blob/main/electromechanical_conversion_plot.ipynb\" target=\"_parent\"><img src=\"https://colab.research.google.com/assets/colab-badge.svg\" alt=\"Open In Colab\"/></a>"
      ]
    },
    {
      "cell_type": "code",
      "execution_count": 1,
      "metadata": {
        "id": "U6mJpaL-Hkwo"
      },
      "outputs": [],
      "source": [
        "import math\n",
        "import matplotlib.pyplot as plt\n",
        "import numpy as np\n",
        "import pandas as pd"
      ]
    },
    {
      "cell_type": "code",
      "execution_count": 43,
      "metadata": {
        "id": "kUsSnsVVoxku"
      },
      "outputs": [],
      "source": [
        "def calculate_a_and_b_geometric_section(geometric_section: float):\n",
        "    if geometric_section > 25:\n",
        "        a = 5\n",
        "    else:\n",
        "        a = 4\n",
        "    b = geometric_section/a\n",
        "    return b "
      ]
    },
    {
      "cell_type": "code",
      "execution_count": 3,
      "metadata": {
        "id": "SKUiFaTQoxkv"
      },
      "outputs": [],
      "source": [
        "def core_geometric_section_1(magnetic_section: float):\n",
        "    return magnetic_section*1.1"
      ]
    },
    {
      "cell_type": "code",
      "execution_count": 4,
      "metadata": {
        "id": "-QG1jqgkoxkv"
      },
      "outputs": [],
      "source": [
        "def core_magnetic_section(length: float, width: float)->float:\n",
        "    return core_geometric_section(length, width)/1.1"
      ]
    },
    {
      "cell_type": "code",
      "execution_count": 5,
      "metadata": {
        "id": "FX0kZK2RS2wv"
      },
      "outputs": [],
      "source": [
        "def core_geometric_section(length: float, width: float)->float:\n",
        "    return length*width"
      ]
    },
    {
      "cell_type": "code",
      "execution_count": 6,
      "metadata": {
        "id": "3YpKktChTIF2"
      },
      "outputs": [],
      "source": [
        "def core_magnetic_section1(length: float, width: float)->float:\n",
        "    return 1.1*core_geometric_section(length, width)"
      ]
    },
    {
      "cell_type": "code",
      "execution_count": 7,
      "metadata": {
        "id": "TiC1jAh6oxkw"
      },
      "outputs": [],
      "source": [
        "def cooper_section(n1:float,s1:float,n2:float,s2:float):\n",
        "    return n1*s1 + n2*s2"
      ]
    },
    {
      "cell_type": "code",
      "execution_count": null,
      "metadata": {},
      "outputs": [],
      "source": [
        "def blades_qtd(b:float,acesita:float):\n",
        "  return round((b*0.9)/acesita)"
      ]
    },
    {
      "cell_type": "code",
      "execution_count": null,
      "metadata": {},
      "outputs": [],
      "source": [
        "def dimensions_core(a:float,b:float,second_potency:float):\n",
        "    if(second_potency>800):\n",
        "        largura=3*a\n",
        "        altura=4*a\n",
        "        comprimento=b\n",
        "        seção_janela=(0.5*a*3*a)*100  ## mm²\n",
        "        volume= ((largura*altura) - (0.5*a*3*a*2))*b*0.9 ## cm³\n",
        "\n",
        "        \n",
        "        return (\"\\nA Largura é: \"+str(largura)+\"cm\\n\" +\n",
        "                \"A Altura é: \"+str(altura)+\"cm\\n\" +\n",
        "                \"O Comprimento é: \"+str(comprimento)+\"cm\\n\" +\n",
        "                \"A Seção da janela é: \"+str(seção_janela)+\"mm²\\n\"+\n",
        "                \"O Volume é: \"+str(volume)+\"cm³\")\n",
        "\n",
        "    else:    \n",
        "     print(\"mero\")   \n",
        "    "
      ]
    },
    {
      "cell_type": "code",
      "execution_count": null,
      "metadata": {},
      "outputs": [],
      "source": [
        "def bitola_which(condutor_section:float):\n",
        "    mero = []\n",
        "    \n",
        "    if(condutor_section<=53.476 and condutor_section>42.409):\n",
        "        mero.append(53.476)\n",
        "        mero.append(\"fio 0\")\n",
        "        return mero\n",
        "    if(condutor_section<=42.409 and condutor_section>33.362):\n",
        "        mero.append(42.409)\n",
        "        mero.append(\"fio 1\")\n",
        "        return  mero\n",
        "    if(condutor_section<=33.362 and condutor_section>26.271):\n",
        "        mero.append(33.362)\n",
        "        mero.append(\"fio 2\")\n",
        "        return mero\n",
        "    if(condutor_section<=26.271 and condutor_section>21.152):\n",
        "        mero.append(26.271)\n",
        "        mero.append(\"fio 3\")\n",
        "        return  mero\n",
        "    if(condutor_section<21.152 and condutor_section>16.774):\n",
        "        mero.append(21.152)\n",
        "        mero.append(\"fio 4\")\n",
        "        return mero\n",
        "    if(condutor_section<16.774 and condutor_section>13.303):\n",
        "        mero.append(16.774)\n",
        "        mero.append(\"fio 5\")\n",
        "        return  mero\n",
        "    if(condutor_section<13.303 and condutor_section>10.549):\n",
        "        mero.append(13.303)\n",
        "        mero.append(\"fio 6\")\n",
        "        return mero\n",
        "    if(condutor_section<10.549 and condutor_section>8.366):\n",
        "        mero.append(10.549)\n",
        "        mero.append(\"fio 7\")\n",
        "        return  mero\n",
        "    if(condutor_section<8.366 and condutor_section>6.635):\n",
        "        mero.append(8.366)\n",
        "        mero.append(\"fio 8\")\n",
        "        return mero\n",
        "    if(condutor_section<6.635 and condutor_section>5.262):\n",
        "        mero.append(6.635)\n",
        "        mero.append(\"fio 9\")\n",
        "        return  mero\n",
        "    if(condutor_section<5.262 and condutor_section>4.173):\n",
        "        mero.append(5.262)\n",
        "        mero.append(\"fio 10\")\n",
        "        return mero\n",
        "    if(condutor_section<4.173 and condutor_section>3.309):\n",
        "        mero.append(4.173)\n",
        "        mero.append(\"fio 11\")\n",
        "        return  mero    \n",
        "    if(condutor_section<3.309 and condutor_section>2.624):\n",
        "        mero.append(3.309)\n",
        "        mero.append(\"fio 12\")\n",
        "        return mero\n",
        "    if(condutor_section<2.624 and condutor_section>2.081):\n",
        "        mero.append(2.624)\n",
        "        mero.append(\"fio 13\")\n",
        "        return  mero\n",
        "    if(condutor_section<2.081 and condutor_section>1.650):\n",
        "        mero.append(2.081)\n",
        "        mero.append(\"fio 14\")\n",
        "        return mero\n",
        "    if(condutor_section<1.650 and condutor_section>1.309):\n",
        "        mero.append(1.650)\n",
        "        mero.append(\"fio 15\")\n",
        "        return  mero\n",
        "    if(condutor_section<1.309 and condutor_section>1.038):\n",
        "        mero.append(1.309)\n",
        "        mero.append(\"fio 16\")\n",
        "        return mero\n",
        "    if(condutor_section<1.038 and condutor_section>0.823):\n",
        "        mero.append(1.038)\n",
        "        mero.append(\"fio 17\")\n",
        "        return  mero\n",
        "    if(condutor_section<0.823 and condutor_section>0.653):\n",
        "        mero.append(0.823)\n",
        "        mero.append(\"fio 18\")\n",
        "        return  mero\n",
        "    if(condutor_section<0.653 and condutor_section>0.518):\n",
        "        mero.append(0.653)\n",
        "        mero.append(\"fio 19\")\n",
        "        return  mero\n",
        "    if(condutor_section<0.518 and condutor_section>0.411):\n",
        "        mero.append(0.518)\n",
        "        mero.append(\"fio 20\")\n",
        "        return  mero"
      ]
    },
    {
      "cell_type": "code",
      "execution_count": 8,
      "metadata": {
        "id": "67Kz20RwCcBy"
      },
      "outputs": [],
      "source": [
        "def conductor_section(current, potency)->float:\n",
        "    if potency == 500:\n",
        "        return current/3\n",
        "    if potency >= 500 and potency <= 1000:\n",
        "        return current/2.5\n",
        "    if potency >= 1000 and potency <= 3000:\n",
        "        return current/2\n",
        "\n",
        "    return 'Invalid value'"
      ]
    },
    {
      "cell_type": "code",
      "execution_count": 46,
      "metadata": {
        "id": "PO43X_usOKQR"
      },
      "outputs": [],
      "source": [
        "def iron_core_weight(geometric_section:float):\n",
        "    b = calculate_a_and_b_geometric_section(geometric_section)\n",
        "\n",
        "    if(geometric_section>25):\n",
        "        return 1.580*b\n",
        "    return 1.000*b"
      ]
    },
    {
      "cell_type": "code",
      "execution_count": 47,
      "metadata": {
        "id": "F-4eRHVfoxky"
      },
      "outputs": [],
      "source": [
        "def calculate_lm(core_gs):\n",
        "    b = calculate_a_and_b_geometric_section\n",
        "\n",
        "    if(core_gs>25):\n",
        "        return (2*5 + 2*b + 0.5*3.14*5)\n",
        "    return (2*4 + 2*b + 0.5*3.14*4)"
      ]
    },
    {
      "cell_type": "code",
      "execution_count": 11,
      "metadata": {
        "id": "t1_eBU3Voxky"
      },
      "outputs": [],
      "source": [
        "def cooper_weight(section_cooper:float, lm:float):\n",
        "    return ((section_cooper/100)*lm*9)*0.001"
      ]
    },
    {
      "cell_type": "code",
      "execution_count": 12,
      "metadata": {
        "id": "mTbk4utTPCvy"
      },
      "outputs": [],
      "source": [
        "def copper_core_weight(\n",
        "    first_tension: float,\n",
        "    second_tension: float,\n",
        "    first_potency: float,\n",
        "    second_potency: float,\n",
        "    frequency: float,\n",
        "    first_current: float,\n",
        "    second_current: float,\n",
        "    is_long_cable,\n",
        "    is_two_primary_circuits: bool=False,\n",
        "    is_two_secondary_circuits: bool=False\n",
        "    )->float:\n",
        "    geometric_section = calculate_magnectic_section_core(second_potency, frequency, is_long_cable, is_two_primary_circuits, is_two_secondary_circuits)\n",
        "    aux = geometric_section\n",
        "    a = round(math.sqrt(aux*1.1))\n",
        "    b = geometric_section/a\n",
        "    average_length = 2*a + 2*b + 0.5*a*math.pi\n",
        "    s1 = conductor_section(first_current, first_potency)\n",
        "    s2 = conductor_section(second_current, second_potency)\n",
        "    n1 = first_tension*1.1\n",
        "    n2 = second_tension*1.1\n",
        "    section_copper = n1*s1 + n2*s2\n",
        "\n",
        "    return (section_copper/100)*average_length*9"
      ]
    },
    {
      "cell_type": "code",
      "execution_count": 22,
      "metadata": {
        "id": "rzl3ReCJoxky"
      },
      "outputs": [],
      "source": [
        "def calculate_turns_number_1(frequency: float, tension: float, core_ms: float):\n",
        "    if(frequency == 50):\n",
        "        return tension*(40/core_ms)\n",
        "    return tension*(33.5/core_ms)"
      ]
    },
    {
      "cell_type": "code",
      "execution_count": 30,
      "metadata": {
        "id": "IuBNdcrDoxkz"
      },
      "outputs": [],
      "source": [
        "def exec_possibility_1(n1:float, n2:float, s1:float, s2: float,geometric_section:float):\n",
        "    possibility=2400/cooper_section(n1,s1,n2,s2)\n",
        "\n",
        "    if(geometric_section >25):\n",
        "        possibility= 3750/cooper_section(n1,s1,n2,s2)\n",
        "        return (f'Possible to project the transformer. Coeficient: {possibility}' if(possibility>=3)\n",
        "                else f'Impossible to project this transformer. Please, reproject the transformer with a bigger core. Coeficient:{possibility}')\n",
        "    return (f'Possible to project the transformer. Coeficient: {possibility}' if(possibility>=3)\n",
        "            else f'Impossible to project this transformer. Please, reproject the transformer with a bigger core. Coeficient:{possibility}')"
      ]
    },
    {
      "cell_type": "code",
      "execution_count": 15,
      "metadata": {
        "id": "EMbEku0uzhkB"
      },
      "outputs": [],
      "source": [
        "def calculate_turns_number(\n",
        "    tension:float,\n",
        "    sm:float,\n",
        "    frequency:float,\n",
        "    bm:float = 11300\n",
        "    )->float:\n",
        "    return (tension/sm)*(1e8/(4.44*bm*frequency))"
      ]
    },
    {
      "cell_type": "code",
      "execution_count": null,
      "metadata": {},
      "outputs": [],
      "source": [
        "def calculate_magnectic_section_core(\n",
        "    potency: float,\n",
        "    frequency: float,\n",
        "    is_long_cable: bool,\n",
        "    is_two_primary_circuits: bool=False,\n",
        "    is_two_secondary_circuits: bool=False\n",
        "    )->float:\n",
        "    standard_cables = 7.5*(math.sqrt(potency/frequency))\n",
        "    long_cables = 6.5*(math.sqrt(potency/frequency))\n",
        "\n",
        "    if is_two_primary_circuits is False and is_two_secondary_circuits is False:\n",
        "        if is_long_cable:\n",
        "            return long_cables\n",
        "        return standard_cables\n",
        "\n",
        "    if is_two_primary_circuits is True and is_two_secondary_circuits is False:\n",
        "        standard_cables = 7.5*(math.sqrt(1.25*potency/frequency))\n",
        "        long_cables = 6*(math.sqrt(1.25*potency/frequency))\n",
        "\n",
        "        if is_long_cable:\n",
        "            return long_cables\n",
        "        return standard_cables\n",
        "\n",
        "    if is_two_primary_circuits is True and is_two_secondary_circuits is True:\n",
        "        standard_cables = 7.5*(math.sqrt(1.5*potency/frequency))\n",
        "        long_cables = 6*(math.sqrt(1.5*potency/frequency))\n",
        "\n",
        "        if is_long_cable:\n",
        "            return long_cables\n",
        "        return standard_cables\n",
        "\n",
        "    print('Invalid option')\n",
        "    return [0, 0]"
      ]
    },
    {
      "cell_type": "code",
      "execution_count": 44,
      "metadata": {
        "id": "2gcjFp8fw7lI"
      },
      "outputs": [],
      "source": [
        "def meroshow (frequency: float, second_potency:float, first_tension: float, second_tension:float):\n",
        "       \n",
        "    acesita_blade_espessura= 0.035     \n",
        "    first_potency: float = second_potency*1.1\n",
        "    first_current: float = first_potency/first_tension\n",
        "    second_current: float = second_potency/second_tension\n",
        "    bm:float = 11300\n",
        "\n",
        "    s1 = conductor_section(first_current, second_potency)\n",
        "    s2 = conductor_section(second_current, second_potency)\n",
        "    s1_Bitola= bitola_which(s1)\n",
        "    s2_Bitola= bitola_which(s2)\n",
        "\n",
        "    magnetic_section = calculate_magnectic_section_core(first_potency, frequency, True)\n",
        "    geometric_section = core_geometric_section_1(magnetic_section)\n",
        "    \n",
        "    if(second_potency>800):\n",
        "        print(\"Uso das laminas Compridas Devido a potencia maior que 800VA\")\n",
        "    else:\n",
        "        print(\"Uso das laminas padronizadas Devido a potencia menor que 800VA\") \n",
        "        \n",
        "    if geometric_section > 25:\n",
        "        a = 5\n",
        "    else:\n",
        "        a = 4\n",
        "    \n",
        "    \n",
        "    b = round(calculate_a_and_b_geometric_section(geometric_section),1)\n",
        "\n",
        "    core_gs = core_geometric_section(a, b)\n",
        "    core_ms =round (core_magnetic_section(a, b),1)\n",
        "    \n",
        "   \n",
        "\n",
        "    n1 = calculate_turns_number_1(frequency, first_tension, core_ms)\n",
        "    n2 = calculate_turns_number_1(frequency,  second_tension, core_ms)*1.1\n",
        "    possibility = exec_possibility_1(n1,n2,s1,s2,core_gs)\n",
        "    iron_weight = iron_core_weight(core_gs)\n",
        "    section_cooper= cooper_section(n1,s1,n2,s2)\n",
        "    comprimento_medio_espiras_cobre = calculate_lm(core_gs)\n",
        "    weight_cooper = cooper_weight(section_cooper,comprimento_medio_espiras_cobre)\n",
        "    p = copper_core_weight( first_tension,second_tension,first_potency,second_potency,frequency,first_current,second_current,True)\n",
        "    dimensions= dimensions_core(a,b,second_potency)\n",
        "    qtd_blades= blades_qtd(b,acesita_blade_espessura)\n",
        "    print(\"first_potency\", first_potency)\n",
        "    print(\"first_current\", first_current)\n",
        "    print(\"second_current\", second_current)\n",
        "    print(\"bm\", bm)\n",
        "    print(\"s1: \", s1)\n",
        "    print(\"s2: \", s2)\n",
        "    print(\"s1_Bitola: \", s1_Bitola)\n",
        "    print(\"s2_Bitola: \", s2_Bitola)\n",
        "    print(\"magnetic_section: \", magnetic_section)\n",
        "    print(\"geometric_section: \", geometric_section)\n",
        "    print(\"core_gs: \", core_gs)\n",
        "    print(\"core_ms: \", core_ms)\n",
        "    \n",
        "    if(a==5):\n",
        "        print(\"Uso das laminas Compridas Nº6 que possui a=5cm\")\n",
        "    else:\n",
        "        print(\"Uso das laminas compridas Nº5 que possui a=4cm\") \n",
        "    print(\"n1: \", n1)\n",
        "    print(\"n2: \", n2)\n",
        "    print(possibility)\n",
        "    print(\"iron_core_weight: \",iron_weight)\n",
        "    print(\"cooper Section:\", section_cooper, \"mm²\")\n",
        "    print(\"Cooper Weight:\", weight_cooper)\n",
        "    print(\"Core DImensions: \",dimensions)\n",
        "    print(\"Blades Quantity:\",qtd_blades)"
      ]
    },
    {
      "cell_type": "code",
      "execution_count": 45,
      "metadata": {
        "id": "GerRHHU-oxk1"
      },
      "outputs": [],
      "source": [
        "def analyze_table(bitola_wire: float):\n",
        "    database = pd.read_excel('awg.xlsx')\n",
        "    database = database.sort_values('section').reset_index(drop=True)\n",
        "    sections = database['section'].values\n",
        "    idx = np.searchsorted(sections, bitola_wire, side='right')\n",
        "\n",
        "    if idx < len(sections):\n",
        "        nearest_awg = database.iloc[idx]['awg']\n",
        "        return nearest_awg\n",
        "    else:\n",
        "        return database.iloc[-1]['awg']"
      ]
    },
    {
      "cell_type": "code",
      "execution_count": 42,
      "metadata": {
        "colab": {
          "base_uri": "https://localhost:8080/"
        },
        "id": "yyfNbphboxkz",
        "outputId": "e8b60d00-baf1-4de6-88c0-c2aefdee7712"
      },
      "outputs": [
        {
          "name": "stdout",
          "output_type": "stream",
          "text": [
            "first_potency 1100.0\n",
            "first_current 5.0\n",
            "second_current 41.666666666666664\n",
            "bm 11300\n",
            "s1:  2.0\n",
            "s2:  16.666666666666664\n",
            "magnetic_section:  28.142494558940577\n",
            "geometric_section:  30.956744014834637\n",
            "core_ms:  28.142494558940577\n",
            "core_gs:  30.956744014834637\n",
            "n1:  312.69438398822865\n",
            "n2:  37.52332607858744\n",
            "Impossible to project this transformer. Please, reproject the transformer with a bigger core. Coeficient:2.9981350737507717\n",
            "iron_core_weight:  9.782331108687746\n",
            "cooper Section: 1250.7775359529146 mm²\n"
          ]
        }
      ],
      "source": [
        "meroshow(50,1000,220,24)"
      ]
    }
  ],
  "metadata": {
    "colab": {
      "include_colab_link": true,
      "provenance": []
    },
    "kernelspec": {
      "display_name": "Python 3",
      "name": "python3"
    },
    "language_info": {
      "codemirror_mode": {
        "name": "ipython",
        "version": 3
      },
      "file_extension": ".py",
      "mimetype": "text/x-python",
      "name": "python",
      "nbconvert_exporter": "python",
      "pygments_lexer": "ipython3",
      "version": "3.10.13"
    }
  },
  "nbformat": 4,
  "nbformat_minor": 0
}
