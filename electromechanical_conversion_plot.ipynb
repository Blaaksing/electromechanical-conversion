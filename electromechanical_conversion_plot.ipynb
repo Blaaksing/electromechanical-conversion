{
  "nbformat": 4,
  "nbformat_minor": 0,
  "metadata": {
    "colab": {
      "provenance": [],
      "authorship_tag": "ABX9TyOGrDZ/EYAu1+rVbnimNBYp"
    },
    "kernelspec": {
      "name": "python3",
      "display_name": "Python 3"
    },
    "language_info": {
      "name": "python"
    }
  },
  "cells": [
    {
      "cell_type": "code",
      "source": [
        "import math"
      ],
      "metadata": {
        "id": "U6mJpaL-Hkwo"
      },
      "execution_count": 7,
      "outputs": []
    },
    {
      "cell_type": "code",
      "source": [
        "def core_geometric_section(length: float, width: float)->float:\n",
        "    return length*width"
      ],
      "metadata": {
        "id": "FX0kZK2RS2wv"
      },
      "execution_count": 14,
      "outputs": []
    },
    {
      "cell_type": "code",
      "source": [
        "def core_magnetic_section(length: float, width: float)->float:\n",
        "    return 1.1*core_geometric_section(length, width)"
      ],
      "metadata": {
        "id": "3YpKktChTIF2"
      },
      "execution_count": 15,
      "outputs": []
    },
    {
      "cell_type": "code",
      "source": [
        "def conductor_section(current, potency)->float:\n",
        "    if potency == 500:\n",
        "        return current/3\n",
        "    if potency >= 500 and potency <= 1000:\n",
        "        return current/2.5\n",
        "    if potency >= 1000 and potency <= 3000:\n",
        "        return current/2\n",
        "    return 'Invalid value'"
      ],
      "metadata": {
        "id": "67Kz20RwCcBy"
      },
      "execution_count": 1,
      "outputs": []
    },
    {
      "cell_type": "code",
      "source": [
        "def core_section(depth:float, width:float)->float:\n",
        "    geometric_section = depth*width\n",
        "    magnetic_section = geometric_section/1.1\n",
        "\n",
        "    return magnetic_section"
      ],
      "metadata": {
        "id": "859CtP4yUgg8"
      },
      "execution_count": 2,
      "outputs": []
    },
    {
      "cell_type": "code",
      "source": [
        "def iron_core_weight(weight_per_cm: float, length_cable):\n",
        "    return weight_per_cm*length_cable"
      ],
      "metadata": {
        "id": "PO43X_usOKQR"
      },
      "execution_count": 13,
      "outputs": []
    },
    {
      "cell_type": "code",
      "source": [
        "def copper_core_weight(\n",
        "    first_depth: float,\n",
        "    first_width: float,\n",
        "    second_depth: float,\n",
        "    second_width: float,\n",
        "    weight_per_cm: float,\n",
        "    length_cable\n",
        "    )->float:\n",
        "    average_length = 2*a + 2*b + 0.5+a+math.pi\n",
        "    s1 = core_section(first_depth, first_width)\n",
        "    s2 = core_section(second_depth, second_width)\n",
        "    section_copper = n1*s1 + n2*s2\n",
        "\n",
        "    return (section_copper/100)*average_length*9"
      ],
      "metadata": {
        "id": "mTbk4utTPCvy"
      },
      "execution_count": null,
      "outputs": []
    },
    {
      "cell_type": "code",
      "source": [
        "def calculate_turns_number(\n",
        "    tension:float,\n",
        "    sm:float,\n",
        "    frequency:float,\n",
        "    bm:float = 11300\n",
        "    )->float:\n",
        "\n",
        "    return (tension/sm)*(1e8/(4.44*bm*frequency))"
      ],
      "metadata": {
        "id": "EMbEku0uzhkB"
      },
      "execution_count": 3,
      "outputs": []
    },
    {
      "cell_type": "code",
      "source": [
        "def exec_possibility(\n",
        "    first_tension: float,\n",
        "    second_tension: float,\n",
        "    first_depth: float,\n",
        "    first_width: float,\n",
        "    second_depth: float,\n",
        "    second_width: float,\n",
        "    frequency: float,\n",
        "    bm:float = 11300\n",
        "    )->bool:\n",
        "    s1 = core_section(first_depth, first_width)\n",
        "    s2 = core_section(second_depth, second_width)\n",
        "    n1 = calculate_turns_number(first_tension, s1, frequency, bm)\n",
        "    n2 = calculate_turns_number(second_tension, s2, frequency, bm)\n",
        "    section_copper = n1*s1 + n2*s2\n",
        "    section_window = 0.5\n",
        "\n",
        "    if (section_window/section_copper) < 3:\n",
        "        print('Impossible to project thistransformer. Please, reproject the transformer with a bigger core')\n",
        "        return False\n",
        "    return True"
      ],
      "metadata": {
        "id": "J3Wl6tsL4UgI"
      },
      "execution_count": 4,
      "outputs": []
    },
    {
      "cell_type": "code",
      "source": [
        "print(exec_possibility(1, 2, 0.5, 0.2, 0.8, 0.5, 50))"
      ],
      "metadata": {
        "colab": {
          "base_uri": "https://localhost:8080/"
        },
        "id": "Spup-wR9nd6f",
        "outputId": "8e59dc7b-1215-4e0a-e1de-ad5fe79d0b9b"
      },
      "execution_count": 5,
      "outputs": [
        {
          "output_type": "stream",
          "name": "stdout",
          "text": [
            "Impossible to project thistransformer. Please, reproject the transformer with a bigger core\n",
            "False\n"
          ]
        }
      ]
    },
    {
      "cell_type": "code",
      "source": [
        "def calculate_magnectic_section_core(\n",
        "    potency: float,\n",
        "    frequency: float,\n",
        "    two_primary_circuits: bool=False,\n",
        "    two_secondary_circuits: bool=False\n",
        "    )->float:\n",
        "    standard_cables = 7.5*(math.sqrt(potency/frequency))\n",
        "    long_cables = 6*(math.sqrt(potency/frequency))\n",
        "\n",
        "    if two_primary_circuits is False and two_secondary_circuits is False:\n",
        "        return [standard_cables, long_cables]\n",
        "\n",
        "    if two_primary_circuits is True and two_secondary_circuits is False:\n",
        "        standard_cables = 7.5*(math.sqrt(1.25*potency/frequency))\n",
        "        long_cables = 6*(math.sqrt(1.25*potency/frequency))\n",
        "\n",
        "        return [standard_cables, long_cables]\n",
        "\n",
        "    if two_primary_circuits is True and two_secondary_circuits is True:\n",
        "        standard_cables = 7.5*(math.sqrt(1.5*potency/frequency))\n",
        "        long_cables = 6*(math.sqrt(1.5*potency/frequency))\n",
        "\n",
        "        return [standard_cables, long_cables]\n",
        "\n",
        "    print('Invalid option')\n",
        "    return [0, 0]"
      ],
      "metadata": {
        "id": "l0MrfMbTEmLJ"
      },
      "execution_count": 12,
      "outputs": []
    },
    {
      "cell_type": "code",
      "source": [
        "print(calculate_magnectic_section_core(10, 10, False, True))"
      ],
      "metadata": {
        "colab": {
          "base_uri": "https://localhost:8080/"
        },
        "id": "nCKLUokeJllz",
        "outputId": "7788bd26-1ef6-4ee0-c702-ea3305968786"
      },
      "execution_count": 11,
      "outputs": [
        {
          "output_type": "stream",
          "name": "stdout",
          "text": [
            "Invalid choose\n",
            "[0, 0]\n"
          ]
        }
      ]
    },
    {
      "cell_type": "code",
      "execution_count": 6,
      "metadata": {
        "id": "9UdGY3Bdykui"
      },
      "outputs": [],
      "source": [
        "def transformador_monofasico(v_prim, v_sec, pot):\n",
        "    return num_espiras, bitolas, lamina, dim_transformador"
      ]
    }
  ]
}