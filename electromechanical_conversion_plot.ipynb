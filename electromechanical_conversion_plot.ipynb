{
  "nbformat": 4,
  "nbformat_minor": 0,
  "metadata": {
    "colab": {
      "provenance": [],
      "authorship_tag": "ABX9TyOpwo3ag7wghhIoSu+p7TOm"
    },
    "kernelspec": {
      "name": "python3",
      "display_name": "Python 3"
    },
    "language_info": {
      "name": "python"
    }
  },
  "cells": [
    {
      "cell_type": "code",
      "source": [
        "def conductor_section(current, potency)->float:\n",
        "    if potency == 500:\n",
        "        return current/3\n",
        "    if potency >= 500 and potency <= 1000:\n",
        "        return current/2.5\n",
        "    if potency >= 1000 and potency <= 3000:\n",
        "        return current/2\n",
        "    return 'Invalid value'"
      ],
      "metadata": {
        "id": "67Kz20RwCcBy"
      },
      "execution_count": 7,
      "outputs": []
    },
    {
      "cell_type": "code",
      "source": [
        "def core_section(depth:float, width:float)->float:\n",
        "    geometric_section = depth*width\n",
        "    magnetic_section = geometric_section/1.1\n",
        "\n",
        "    return magnetic_section"
      ],
      "metadata": {
        "id": "859CtP4yUgg8"
      },
      "execution_count": 15,
      "outputs": []
    },
    {
      "cell_type": "code",
      "source": [
        "def calculate_turns_number(\n",
        "    tension:float,\n",
        "    sm:float,\n",
        "    frequency:float,\n",
        "    bm:float = 11300\n",
        "    )->float:\n",
        "\n",
        "    return (tension/sm)*(1e8/(4.44*bm*frequency))"
      ],
      "metadata": {
        "id": "EMbEku0uzhkB"
      },
      "execution_count": 12,
      "outputs": []
    },
    {
      "cell_type": "code",
      "source": [
        "def exec_possibility(\n",
        "    first_tension: float,\n",
        "    second_tension: float,\n",
        "    first_depth: float,\n",
        "    first_width: float,\n",
        "    second_depth: float,\n",
        "    second_width: float,\n",
        "    frequency: float,\n",
        "    bm:float = 11300\n",
        "    )->bool:\n",
        "    s1 = core_section(first_depth, first_width)\n",
        "    s2 = core_section(second_depth, second_width)\n",
        "    n1 = calculate_turns_number(first_tension, s1, frequency, bm)\n",
        "    n2 = calculate_turns_number(second_tension, s2, frequency, bm)\n",
        "    section_copper = n1*s1 + n2*s2\n",
        "    section_window =\n",
        "\n",
        "    if (section_window/section_copper) < 3:\n",
        "        print('Impossible to project thistransformer.\\\n",
        "        Please, reproject the transformer with a bigger core')\n",
        "        return False\n",
        "    return True"
      ],
      "metadata": {
        "colab": {
          "base_uri": "https://localhost:8080/",
          "height": 106
        },
        "id": "J3Wl6tsL4UgI",
        "outputId": "6915572d-14f9-43c3-c934-543958b11be1"
      },
      "execution_count": 16,
      "outputs": [
        {
          "output_type": "error",
          "ename": "SyntaxError",
          "evalue": "invalid syntax (<ipython-input-16-f18af69998a4>, line 2)",
          "traceback": [
            "\u001b[0;36m  File \u001b[0;32m\"<ipython-input-16-f18af69998a4>\"\u001b[0;36m, line \u001b[0;32m2\u001b[0m\n\u001b[0;31m    N1 =\u001b[0m\n\u001b[0m        ^\u001b[0m\n\u001b[0;31mSyntaxError\u001b[0m\u001b[0;31m:\u001b[0m invalid syntax\n"
          ]
        }
      ]
    },
    {
      "cell_type": "code",
      "execution_count": null,
      "metadata": {
        "id": "9UdGY3Bdykui"
      },
      "outputs": [],
      "source": [
        "def transformador_monofasico(v_prim, v_sec, pot):\n",
        "    return num_espiras, bitolas, lamina, dim_transformador"
      ]
    }
  ]
}