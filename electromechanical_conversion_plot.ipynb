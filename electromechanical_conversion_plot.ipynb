{
  "nbformat": 4,
  "nbformat_minor": 0,
  "metadata": {
    "colab": {
      "provenance": [],
      "authorship_tag": "ABX9TyOxAmg7rrWnqCHWOsMVEQ2b",
      "include_colab_link": true
    },
    "kernelspec": {
      "name": "python3",
      "display_name": "Python 3"
    },
    "language_info": {
      "name": "python"
    }
  },
  "cells": [
    {
      "cell_type": "markdown",
      "metadata": {
        "id": "view-in-github",
        "colab_type": "text"
      },
      "source": [
        "<a href=\"https://colab.research.google.com/github/PedrolyraC/electromechanical-conversion/blob/main/electromechanical_conversion_plot.ipynb\" target=\"_parent\"><img src=\"https://colab.research.google.com/assets/colab-badge.svg\" alt=\"Open In Colab\"/></a>"
      ]
    },
    {
      "cell_type": "code",
      "source": [
        "import math\n",
        "import matplotlib.pyplot as plt\n",
        "import numpy as np\n",
        "import pandas as pd"
      ],
      "metadata": {
        "id": "U6mJpaL-Hkwo"
      },
      "execution_count": 2,
      "outputs": []
    },
    {
      "cell_type": "code",
      "source": [
        "def core_geometric_section(length: float, width: float)->float:\n",
        "    return length*width"
      ],
      "metadata": {
        "id": "FX0kZK2RS2wv"
      },
      "execution_count": null,
      "outputs": []
    },
    {
      "cell_type": "code",
      "source": [
        "def core_magnetic_section(length: float, width: float)->float:\n",
        "    return 1.1*core_geometric_section(length, width)"
      ],
      "metadata": {
        "id": "3YpKktChTIF2"
      },
      "execution_count": null,
      "outputs": []
    },
    {
      "cell_type": "code",
      "source": [
        "def conductor_section(current, potency)->float:\n",
        "    if potency == 500:\n",
        "        return current/3\n",
        "    if potency >= 500 and potency <= 1000:\n",
        "        return current/2.5\n",
        "    if potency >= 1000 and potency <= 3000:\n",
        "        return current/2\n",
        "    return 'Invalid value'"
      ],
      "metadata": {
        "id": "67Kz20RwCcBy"
      },
      "execution_count": 39,
      "outputs": []
    },
    {
      "cell_type": "code",
      "source": [
        "def iron_core_weight(weight_per_cm: float, length_cable):\n",
        "    return weight_per_cm*length_cable"
      ],
      "metadata": {
        "id": "PO43X_usOKQR"
      },
      "execution_count": null,
      "outputs": []
    },
    {
      "cell_type": "code",
      "source": [
        "def copper_core_weight(\n",
        "    first_tension: float,\n",
        "    second_tension: float,\n",
        "    first_potency: float,\n",
        "    second_potency: float,\n",
        "    frequency: float,\n",
        "    is_long_cable,\n",
        "    is_two_primary_circuits: bool=False,\n",
        "    is_two_secondary_circuits: bool=False\n",
        "    )->float:\n",
        "    geometric_section = calculate_magnectic_section_core(second_potency, frequency, is_long_cable, is_two_primary_circuits, is_two_secondary_circuits)\n",
        "    aux = geometric_section\n",
        "    a = round(math.sqrt(aux*1.1))\n",
        "    b = geometric_section/a\n",
        "    average_length = 2*a + 2*b + 0.5*a*math.pi\n",
        "    s1 = conductor_section(first_tension, first_potency)\n",
        "    s2 = conductor_section(second_tension, second_potency)\n",
        "    n1 = first_tension*1.1\n",
        "    n2 = second_tension*1.1\n",
        "    section_copper = n1*s1 + n2*s2\n",
        "\n",
        "    return (section_copper/100)*average_length*9"
      ],
      "metadata": {
        "id": "mTbk4utTPCvy"
      },
      "execution_count": 40,
      "outputs": []
    },
    {
      "cell_type": "code",
      "source": [
        "def calculate_turns_number(\n",
        "    tension:float,\n",
        "    sm:float,\n",
        "    frequency:float,\n",
        "    bm:float = 11300\n",
        "    )->float:\n",
        "\n",
        "    return (tension/sm)*(1e8/(4.44*bm*frequency))"
      ],
      "metadata": {
        "id": "EMbEku0uzhkB"
      },
      "execution_count": null,
      "outputs": []
    },
    {
      "cell_type": "code",
      "source": [
        "def exec_possibility(\n",
        "    first_tension: float,\n",
        "    second_tension: float,\n",
        "    first_depth: float,\n",
        "    first_width: float,\n",
        "    second_depth: float,\n",
        "    second_width: float,\n",
        "    frequency: float,\n",
        "    bm:float = 11300\n",
        "    )->bool:\n",
        "    s1 = core_magnetic_section(first_depth, first_width)\n",
        "    s2 = core_magnetic_section(second_depth, second_width)\n",
        "    n1 = calculate_turns_number(first_tension, s1, frequency, bm)\n",
        "    n2 = calculate_turns_number(second_tension, s2, frequency, bm)\n",
        "    section_copper = n1*s1 + n2*s2\n",
        "    section_window = 0.5\n",
        "\n",
        "    if (section_window/section_copper) < 3:\n",
        "        print('Impossible to project thistransformer. Please, reproject the transformer with a bigger core')\n",
        "        return False\n",
        "    return True"
      ],
      "metadata": {
        "id": "J3Wl6tsL4UgI"
      },
      "execution_count": null,
      "outputs": []
    },
    {
      "cell_type": "code",
      "source": [
        "def calculate_magnectic_section_core(\n",
        "    potency: float,\n",
        "    frequency: float,\n",
        "    is_long_cable: bool,\n",
        "    is_two_primary_circuits: bool=False,\n",
        "    is_two_secondary_circuits: bool=False\n",
        "    )->float:\n",
        "    standard_cables = 7.5*(math.sqrt(potency/frequency))\n",
        "    long_cables = 6*(math.sqrt(potency/frequency))\n",
        "\n",
        "    if is_two_primary_circuits is False and is_two_secondary_circuits is False:\n",
        "        if is_long_cable:\n",
        "            return long_cables\n",
        "        return standard_cables\n",
        "\n",
        "    if is_two_primary_circuits is True and is_two_secondary_circuits is False:\n",
        "        standard_cables = 7.5*(math.sqrt(1.25*potency/frequency))\n",
        "        long_cables = 6*(math.sqrt(1.25*potency/frequency))\n",
        "\n",
        "        if is_long_cable:\n",
        "            return long_cables\n",
        "        return standard_cables\n",
        "\n",
        "    if is_two_primary_circuits is True and is_two_secondary_circuits is True:\n",
        "        standard_cables = 7.5*(math.sqrt(1.5*potency/frequency))\n",
        "        long_cables = 6*(math.sqrt(1.5*potency/frequency))\n",
        "\n",
        "        if is_long_cable:\n",
        "            return long_cables\n",
        "        return standard_cables\n",
        "\n",
        "    print('Invalid option')\n",
        "    return [0, 0]"
      ],
      "metadata": {
        "id": "l0MrfMbTEmLJ"
      },
      "execution_count": 31,
      "outputs": []
    },
    {
      "cell_type": "code",
      "source": [
        "def calculate_magnetic_curve(sheet):\n",
        ""
      ],
      "metadata": {
        "id": "2gcjFp8fw7lI"
      },
      "execution_count": null,
      "outputs": []
    }
  ]
}