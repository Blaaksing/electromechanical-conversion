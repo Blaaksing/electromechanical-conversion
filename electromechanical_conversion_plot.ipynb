{
  "cells": [
    {
      "cell_type": "markdown",
      "metadata": {
        "colab_type": "text",
        "id": "view-in-github"
      },
      "source": [
        "<a href=\"https://colab.research.google.com/github/PedrolyraC/electromechanical-conversion/blob/main/electromechanical_conversion_plot.ipynb\" target=\"_parent\"><img src=\"https://colab.research.google.com/assets/colab-badge.svg\" alt=\"Open In Colab\"/></a>"
      ]
    },
    {
      "cell_type": "code",
      "execution_count": 720,
      "metadata": {
        "id": "U6mJpaL-Hkwo"
      },
      "outputs": [],
      "source": [
        "import math\n",
        "import matplotlib.pyplot as plt\n",
        "import numpy as np\n",
        "import pandas as pd"
      ]
    },
    {
      "cell_type": "code",
      "execution_count": 721,
      "metadata": {},
      "outputs": [],
      "source": [
        "def calculate_a_and_b_geometric_section(geometric_section: float):\n",
        "    if geometric_section > 25:\n",
        "        a = 5\n",
        "    else:\n",
        "        a = 4\n",
        "    b = geometric_section/a\n",
        "    return b "
      ]
    },
    {
      "cell_type": "code",
      "execution_count": 722,
      "metadata": {},
      "outputs": [],
      "source": [
        "def core_geometric_section_1(magnetic_section: float):\n",
        "    return magnetic_section*1.1"
      ]
    },
    {
      "cell_type": "code",
      "execution_count": 723,
      "metadata": {},
      "outputs": [],
      "source": [
        "def core_magnetic_section(length: float, width: float)->float:\n",
        "    return core_geometric_section(length, width)/1.1"
      ]
    },
    {
      "cell_type": "code",
      "execution_count": 724,
      "metadata": {
        "id": "FX0kZK2RS2wv"
      },
      "outputs": [],
      "source": [
        "def core_geometric_section(length: float, width: float)->float:\n",
        "    return length*width"
      ]
    },
    {
      "cell_type": "code",
      "execution_count": 725,
      "metadata": {
        "id": "3YpKktChTIF2"
      },
      "outputs": [],
      "source": [
        "def core_magnetic_section1(length: float, width: float)->float:\n",
        "    return 1.1*core_geometric_section(length, width)"
      ]
    },
    {
      "cell_type": "code",
      "execution_count": 726,
      "metadata": {},
      "outputs": [],
      "source": [
        "def cooper_section(n1:float,s1:float,n2:float,s2:float):\n",
        "    return n1*s1 + n2*s2"
      ]
    },
    {
      "cell_type": "code",
      "execution_count": 727,
      "metadata": {
        "id": "67Kz20RwCcBy"
      },
      "outputs": [],
      "source": [
        "def conductor_section(current, potency)->float:\n",
        "    if potency == 500:\n",
        "        return current/3\n",
        "    if potency >= 500 and potency <= 1000:\n",
        "        return current/2.5\n",
        "    if potency >= 1000 and potency <= 3000:\n",
        "        return current/2\n",
        "    return 'Invalid value'"
      ]
    },
    {
      "cell_type": "code",
      "execution_count": 728,
      "metadata": {
        "id": "PO43X_usOKQR"
      },
      "outputs": [],
      "source": [
        "def iron_core_weight(geometric_section:float):\n",
        "    b=calculate_a_and_b_geometric_section(geometric_section)\n",
        "    if(geometric_section>25):\n",
        "        \n",
        "        return 1.580*b\n",
        "    else:\n",
        "        return 1.000*b"
      ]
    },
    {
      "cell_type": "code",
      "execution_count": 729,
      "metadata": {},
      "outputs": [],
      "source": [
        "def calculate_lm(core_gs):  \n",
        "    b=calculate_a_and_b_geometric_section\n",
        "    if(core_gs>25):\n",
        "        return (2*5 + 2*b + 0.5*3.14*5)\n",
        "    else:\n",
        "        return (2*4 + 2*b + 0.5*3.14*4)"
      ]
    },
    {
      "cell_type": "code",
      "execution_count": 730,
      "metadata": {},
      "outputs": [],
      "source": [
        "def cooper_weight(geometric_section:float,n1:float,s1:float,n2:float,s2:float):\n",
        "    lm=calculate_lm(geometric_section)\n",
        "    cooper_sec=cooper_section(n1,s1,n2,s2)\n",
        "    return (cooper_sec)/100*lm*9"
      ]
    },
    {
      "cell_type": "code",
      "execution_count": 731,
      "metadata": {
        "id": "mTbk4utTPCvy"
      },
      "outputs": [],
      "source": [
        "def copper_core_weight(\n",
        "    first_tension: float,\n",
        "    second_tension: float,\n",
        "    first_potency: float,\n",
        "    second_potency: float,\n",
        "    frequency: float,\n",
        "    is_long_cable,\n",
        "    is_two_primary_circuits: bool=False,\n",
        "    is_two_secondary_circuits: bool=False\n",
        "    )->float:\n",
        "    geometric_section = calculate_magnectic_section_core(second_potency, frequency, is_long_cable, is_two_primary_circuits, is_two_secondary_circuits)\n",
        "    aux = geometric_section\n",
        "    a = round(math.sqrt(aux*1.1))\n",
        "    b = geometric_section/a\n",
        "    average_length = 2*a + 2*b + 0.5*a*math.pi\n",
        "    s1 = conductor_section(first_tension, first_potency)\n",
        "    s2 = conductor_section(second_tension, second_potency)\n",
        "    n1 = first_tension*1.1\n",
        "    n2 = second_tension*1.1\n",
        "    section_copper = n1*s1 + n2*s2\n",
        "\n",
        "    return (section_copper/100)*average_length*9"
      ]
    },
    {
      "cell_type": "code",
      "execution_count": 732,
      "metadata": {},
      "outputs": [],
      "source": [
        "def calculate_turns_number_1(frequency: float, tension: float, core_ms: float):\n",
        "    if(frequency == 50):\n",
        "        return tension*(40/core_ms)\n",
        "    else:\n",
        "        return tension*(33.5/core_ms)"
      ]
    },
    {
      "cell_type": "code",
      "execution_count": 733,
      "metadata": {},
      "outputs": [],
      "source": [
        "def exec_possibility_1(n1:float, n2:float, s1:float, s2: float,geometric_section:float):\n",
        "\n",
        "    if(geometric_section >25):\n",
        "        possibility= 3750/cooper_section(n1,s1,n2,s2)\n",
        "        return \"Coeficiente:\"+ str(possibility) + \"È possivel elaborar o transfomador\" if(possibility>=3) else \"Impossivel elaborar o transfomador com essas propriedadespois o é menor que 3, Coeficiente:\"+str(possibility)\n",
        "    else:\n",
        "        possibility=2400/cooper_section(n1,s1,n2,s2)\n",
        "        return \"Coeficiente:\"+ str(possibility) + \"È possivel elaborar o transfomador\" if(possibility>=3) else \"Impossivel elaborar o transfomador com essas propriedades pois o é menor que 3, Coeficiente:\"+str(possibility) \n"
      ]
    },
    {
      "cell_type": "code",
      "execution_count": 734,
      "metadata": {
        "id": "EMbEku0uzhkB"
      },
      "outputs": [],
      "source": [
        "def calculate_turns_number(\n",
        "    tension:float,\n",
        "    sm:float,\n",
        "    frequency:float,\n",
        "    bm:float = 11300\n",
        "    )->float:\n",
        "\n",
        "    return (tension/sm)*(1e8/(4.44*bm*frequency))"
      ]
    },
    {
      "cell_type": "code",
      "execution_count": 735,
      "metadata": {
        "id": "J3Wl6tsL4UgI"
      },
      "outputs": [],
      "source": [
        "def exec_possibility(\n",
        "    first_tension: float,\n",
        "    second_tension: float,\n",
        "    first_depth: float,\n",
        "    first_width: float,\n",
        "    second_depth: float,\n",
        "    second_width: float,\n",
        "    frequency: float,\n",
        "    bm:float = 11300\n",
        "    )->bool:\n",
        "    s1 = core_magnetic_section(first_depth, first_width)\n",
        "    s2 = core_magnetic_section(second_depth, second_width)\n",
        "    n1 = calculate_turns_number(first_tension, s1, frequency, bm)\n",
        "    n2 = calculate_turns_number(second_tension, s2, frequency, bm)\n",
        "    section_copper = n1*s1 + n2*s2\n",
        "    section_window = 0.5\n",
        "\n",
        "    if (section_window/section_copper) < 3:\n",
        "        print('Impossible to project thistransformer. Please, reproject the transformer with a bigger core')\n",
        "        return False\n",
        "    return True"
      ]
    },
    {
      "cell_type": "code",
      "execution_count": 736,
      "metadata": {
        "id": "l0MrfMbTEmLJ"
      },
      "outputs": [],
      "source": [
        "def calculate_magnectic_section_core(\n",
        "    potency: float,\n",
        "    frequency: float,\n",
        "    is_long_cable: bool,\n",
        "    is_two_primary_circuits: bool=False,\n",
        "    is_two_secondary_circuits: bool=False\n",
        "    )->float:\n",
        "    standard_cables = 7.5*(math.sqrt(potency/frequency))\n",
        "    long_cables = 6*(math.sqrt(potency/frequency))\n",
        "\n",
        "    if is_two_primary_circuits is False and is_two_secondary_circuits is False:\n",
        "        if is_long_cable:\n",
        "            return long_cables\n",
        "        return standard_cables\n",
        "\n",
        "    if is_two_primary_circuits is True and is_two_secondary_circuits is False:\n",
        "        standard_cables = 7.5*(math.sqrt(1.25*potency/frequency))\n",
        "        long_cables = 6*(math.sqrt(1.25*potency/frequency))\n",
        "\n",
        "        if is_long_cable:\n",
        "            return long_cables\n",
        "        return standard_cables\n",
        "\n",
        "    if is_two_primary_circuits is True and is_two_secondary_circuits is True:\n",
        "        standard_cables = 7.5*(math.sqrt(1.5*potency/frequency))\n",
        "        long_cables = 6*(math.sqrt(1.5*potency/frequency))\n",
        "\n",
        "        if is_long_cable:\n",
        "            return long_cables\n",
        "        return standard_cables\n",
        "\n",
        "    print('Invalid option')\n",
        "    return [0, 0]"
      ]
    },
    {
      "cell_type": "code",
      "execution_count": 742,
      "metadata": {},
      "outputs": [
        {
          "name": "stdout",
          "output_type": "stream",
          "text": [
            "first_potency 1100.0\n",
            "first_current 5.0\n",
            "second_current 41.666666666666664\n",
            "bm 11300\n",
            "s1:  2.0\n",
            "s2:  16.666666666666664\n",
            "magnetic_section:  28.142494558940577\n",
            "geometric_section:  30.956744014834637\n",
            "core_ms:  28.142494558940577\n",
            "core_gs:  30.956744014834637\n",
            "n1:  312.69438398822865\n",
            "n2:  37.52332607858744\n",
            "Impossivel elaborar o transfomador com essas propriedadespois o é menor que 3, Coeficiente:2.9981350737507717\n",
            "iron_core_weight:  9.782331108687746\n",
            "cooper Section: 1250.7775359529146 mm²\n"
          ]
        }
      ],
      "source": [
        "meroshow(50,1000,220,24)"
      ]
    },
    {
      "cell_type": "code",
      "execution_count": 741,
      "metadata": {
        "id": "2gcjFp8fw7lI"
      },
      "outputs": [],
      "source": [
        "def meroshow (frequency: float, second_potency:float, first_tension: float, second_tension:float):\n",
        "    first_potency: float = second_potency*1.1\n",
        "    first_current: float = first_potency/first_tension\n",
        "    second_current: float = second_potency/second_tension\n",
        "    bm:float = 11300\n",
        "\n",
        "    s1 = conductor_section(first_current, second_potency)\n",
        "    s2 = conductor_section(second_current, second_potency)\n",
        "\n",
        "    magnetic_section = calculate_magnectic_section_core(first_potency, frequency, True)\n",
        "    geometric_section = core_geometric_section_1(magnetic_section)\n",
        "    \n",
        "    if geometric_section > 25:\n",
        "        a = 5\n",
        "    else:\n",
        "        a = 4\n",
        "    \n",
        "    \n",
        "    b = calculate_a_and_b_geometric_section(geometric_section)\n",
        "\n",
        "    core_gs = core_geometric_section(a, b)\n",
        "    core_ms = core_magnetic_section(a, b)\n",
        "\n",
        "    n1 = calculate_turns_number_1(frequency, first_tension, core_ms)\n",
        "    n2 = calculate_turns_number_1(frequency,  second_tension, core_ms)*1.1\n",
        "    possibility = exec_possibility_1(n1,n2,s1,s2,core_gs)\n",
        "    iron_weight = iron_core_weight(core_gs)\n",
        "    section_cooper= cooper_section(n1,s1,n2,s2)\n",
        "    \n",
        "    print(\"first_potency\", first_potency)\n",
        "    print(\"first_current\", first_current)\n",
        "    print(\"second_current\", second_current)\n",
        "    print(\"bm\", bm)\n",
        "    print(\"s1: \", s1)\n",
        "    print(\"s2: \", s2)\n",
        "    print(\"magnetic_section: \", magnetic_section)\n",
        "    print(\"geometric_section: \", geometric_section)\n",
        "    print(\"core_ms: \", core_ms)\n",
        "    print(\"core_gs: \", core_gs)\n",
        "    print(\"n1: \", n1)\n",
        "    print(\"n2: \", n2)\n",
        "    print(possibility)\n",
        "    print(\"iron_core_weight: \",iron_weight)\n",
        "    print(\"cooper Section:\", section_cooper, \"mm²\")\n",
        "    \n"
      ]
    },
    {
      "cell_type": "code",
      "execution_count": null,
      "metadata": {},
      "outputs": [],
      "source": [
        "def analyze_table(bitola_wire: float):\n",
        "    database = pd.read_excel('awg.xlsx')\n",
        "    database = database.sort_values('section').reset_index(drop=True)\n",
        "    sections = database['section'].values\n",
        "    idx = np.searchsorted(sections, bitola_wire, side='right')\n",
        "    \n",
        "\n",
        "    if idx < len(sections):\n",
        "        nearest_awg = database.iloc[idx]['awg']\n",
        "        return nearest_awg\n",
        "    else:\n",
        "        return database.iloc[-1]['awg']"
      ]
    }
  ],
  "metadata": {
    "colab": {
      "authorship_tag": "ABX9TyOxAmg7rrWnqCHWOsMVEQ2b",
      "include_colab_link": true,
      "provenance": []
    },
    "kernelspec": {
      "display_name": "Python 3",
      "name": "python3"
    },
    "language_info": {
      "codemirror_mode": {
        "name": "ipython",
        "version": 3
      },
      "file_extension": ".py",
      "mimetype": "text/x-python",
      "name": "python",
      "nbconvert_exporter": "python",
      "pygments_lexer": "ipython3",
      "version": "3.10.13"
    }
  },
  "nbformat": 4,
  "nbformat_minor": 0
}
